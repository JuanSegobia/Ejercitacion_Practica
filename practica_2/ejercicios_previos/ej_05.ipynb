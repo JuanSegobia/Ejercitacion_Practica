{
 "cells": [
  {
   "cell_type": "code",
   "execution_count": null,
   "metadata": {},
   "outputs": [],
   "source": []
  },
  {
   "cell_type": "markdown",
   "metadata": {},
   "source": [
    "## Ejercicio 5\n",
    "    Para la aceptación de un artículo en un congreso se definen las siguientes\n",
    "    especificaciones que deben cumplir y recomendaciones de escritura:\n",
    "__Título__\n",
    "- 10 palabras como máximo\n",
    "\n",
    "__Cada oración del resumen:__\n",
    "- hasta 12 palabras: fácil de leer\n",
    "- entre 13-17 palabras: aceptable para leer\n",
    "- entre 18-25 palabras: difícil de leer\n",
    "- mas de 25 palabras: muy difícil\n",
    "    \n",
    "    Es importante destacar que los números no se consideran palabras al momento del\n",
    "    análisis por su facilidad de lectura.\n",
    "    \n",
    "    Dado un artículo en formato string, defina si cumple las especificaciones del título y\n",
    "    cuántas oraciones tiene de cada categoría. El formato estándar en que recibe el string\n",
    "    tiene la siguiente forma:"
   ]
  },
  {
   "cell_type": "code",
   "execution_count": 45,
   "metadata": {},
   "outputs": [],
   "source": [
    "article = \"\"\"título: Experiences in Developing a Distributed Agent-\n",
    "based Modeling Toolkit with Python Version 3\n",
    "resumen: Distributed agent-based modeling (ABM) on high-performance \n",
    "computing resources provides the promise of capturing unprecedented \n",
    "details of large-scale complex systems. However, the specialized \n",
    "knowledge required for developing such ABMs creates barriers to wider \n",
    "adoption and utilization. Here we present our experiences in \n",
    "developing an initial implementation of Repast4Py, a Python-based \n",
    "distributed ABM toolkit. We build on our experiences in developing ABM\n",
    "toolkits, including Repast for High Performance Computing (Repast \n",
    "HPC), to identify the key elements of a useful distributed ABM \n",
    "toolkit. We leverage the Numba, NumPy, and PyTorch packages and the \n",
    "Python C-API to create a scalable modeling system that can exploit the\n",
    "largest HPC resources and emerging computing architectures. \"\"\""
   ]
  },
  {
   "cell_type": "markdown",
   "metadata": {},
   "source": [
    "    \n",
    "    1. Limpiar el articulo con caracteres que no voy a tener en cuenta\n",
    "    2. Separo el titulo del resumen."
   ]
  },
  {
   "cell_type": "code",
   "execution_count": 46,
   "metadata": {},
   "outputs": [],
   "source": [
    "clean_article = article.replace('título' , '').replace('\\n' , '').replace(',' , '').replace(':' , '').replace('3' , '')\n",
    "\n",
    "word_list = clean_article.split(\"resumen\")"
   ]
  },
  {
   "cell_type": "markdown",
   "metadata": {},
   "source": [
    "    3. Defino el titulo del resto del articulo\n",
    "    4. Separo en palabras el titulo y en oraciones el resumen"
   ]
  },
  {
   "cell_type": "code",
   "execution_count": 47,
   "metadata": {},
   "outputs": [],
   "source": [
    "title_list = word_list[0]\n",
    "resume_list = word_list[1]\n",
    "\n",
    "title_list = title_list.split()\n",
    "resume_list = resume_list.split(\".\")"
   ]
  },
  {
   "cell_type": "markdown",
   "metadata": {},
   "source": [
    "    5. Cuento palabras del titulo"
   ]
  },
  {
   "cell_type": "code",
   "execution_count": 56,
   "metadata": {},
   "outputs": [],
   "source": [
    "if len(title_list) <= 10:\n",
    "    ok = True\n",
    "else:\n",
    "    ok = False"
   ]
  },
  {
   "cell_type": "markdown",
   "metadata": {},
   "source": [
    "    6. Cuento las oraciones y guardo el estado de cada una"
   ]
  },
  {
   "cell_type": "code",
   "execution_count": 57,
   "metadata": {},
   "outputs": [],
   "source": [
    "easy_to_read = 0\n",
    "aceptable_to_read = 0\n",
    "hard_to_read = 0\n",
    "very_hard_to_read = 0\n",
    "\n",
    "for sentence in resume_list:\n",
    "    words = sentence.split()\n",
    "\n",
    "    amount = len(words)\n",
    "    \n",
    "    if amount <= 12:\n",
    "        easy_to_read += 1\n",
    "    elif amount < 18:\n",
    "        aceptable_to_read += 1\n",
    "    elif amount < 26:\n",
    "        hard_to_read += 1\n",
    "    else:\n",
    "        very_hard_to_read += 1"
   ]
  },
  {
   "cell_type": "code",
   "execution_count": 60,
   "metadata": {},
   "outputs": [
    {
     "name": "stdout",
     "output_type": "stream",
     "text": [
      "False\n",
      "Cantidad de oraciones faciles de leer: 1\n",
      "Cantidad de oraciones aceptables de leer: 2\n",
      "Cantidad de oraciones dificiles de leer: 1\n",
      "Cantidad de oraciones muy dificiles de leer: 2\n"
     ]
    }
   ],
   "source": [
    "print (ok)\n",
    "\n",
    "print(f\"Cantidad de oraciones faciles de leer: {easy_to_read}\")\n",
    "print(f\"Cantidad de oraciones aceptables de leer: {aceptable_to_read}\")\n",
    "print(f\"Cantidad de oraciones dificiles de leer: {hard_to_read}\")\n",
    "print(f\"Cantidad de oraciones muy dificiles de leer: {very_hard_to_read}\")\n"
   ]
  }
 ],
 "metadata": {
  "kernelspec": {
   "display_name": "Python 3",
   "language": "python",
   "name": "python3"
  },
  "language_info": {
   "codemirror_mode": {
    "name": "ipython",
    "version": 3
   },
   "file_extension": ".py",
   "mimetype": "text/x-python",
   "name": "python",
   "nbconvert_exporter": "python",
   "pygments_lexer": "ipython3",
   "version": "3.11.7"
  }
 },
 "nbformat": 4,
 "nbformat_minor": 2
}
