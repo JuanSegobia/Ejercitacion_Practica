{
 "cells": [
  {
   "cell_type": "markdown",
   "metadata": {},
   "source": [
    "## Ejercicio 2\n",
    "- Indique la palabra con mas de 4 caracteres que aparece mayor cantidad de veces en el texto README.md de numpy.\n",
    "\n",
    "1. En una primer instancia copiamos nuestro texto en una variable"
   ]
  },
  {
   "cell_type": "code",
   "execution_count": 30,
   "metadata": {},
   "outputs": [],
   "source": [
    "text = (\"\"\"NumPy is the fundamental package for scientific computing with Python.\n",
    "\n",
    "Website: https://www.numpy.org\n",
    "Documentation: https://numpy.org/doc\n",
    "Mailing list: https://mail.python.org/mailman/listinfo/numpy-discussion\n",
    "Source code: https://github.com/numpy/numpy\n",
    "Contributing: https://www.numpy.org/devdocs/dev/index.html\n",
    "Bug reports: https://github.com/numpy/numpy/issues\n",
    "Report a security vulnerability: https://tidelift.com/docs/security\n",
    "It provides:\n",
    "\n",
    "a powerful N-dimensional array object sophisticated (broadcasting) functions\n",
    "tools for integrating C/C++ and Fortran code\n",
    "useful linear algebra, Fourier transform, and random number capabilities\n",
    "Testing:\n",
    "\n",
    "NumPy requires pytest and hypothesis. Tests can then be run after installation with:\n",
    "\n",
    "python -c \"import numpy, sys; sys.exit(numpy.test() is False)\"\n",
    "Code of Conduct\n",
    "NumPy is a community-driven open source project developed by a diverse group of contributors. The NumPy leadership has made a strong commitment to creating an open, inclusive, and positive community. Please read the NumPy Code of Conduct for guidance on how to interact with others in a way that makes our community thrive.\n",
    "\n",
    "Call for Contributions\n",
    "The NumPy project welcomes your expertise and enthusiasm!\n",
    "\n",
    "Small improvements or fixes are always appreciated. If you are considering larger contributions to the source code, please contact us through the mailing list first.\n",
    "\n",
    "Writing code isn’t the only way to contribute to NumPy. You can also:\n",
    "\n",
    "review pull requests\n",
    "help us stay on top of new and old issues\n",
    "develop tutorials, presentations, and other educational materials\n",
    "maintain and improve our website\n",
    "develop graphic design for our brand assets and promotional materials\n",
    "translate website content\n",
    "help with outreach and onboard new contributors\n",
    "write grant proposals and help with other fundraising efforts\n",
    "For more information about the ways you can contribute to NumPy, visit our website. If you’re unsure where to start or how your skills fit in, reach out! You can ask on the mailing list or here, on GitHub, by opening a new issue or leaving a comment on a relevant issue that is already open.\n",
    "\n",
    "Our preferred channels of communication are all public, but if you’d like to speak to us in private first, contact our community coordinators at numpy-team@googlegroups.com or on Slack (write numpy-team@googlegroups.com for an invitation).\n",
    "\n",
    "We also have a biweekly community call, details of which are announced on the mailing list. You are very welcome to join.\n",
    "\n",
    "If you are new to contributing to open source, this guide helps explain why, what, and how to successfully get involved. \"\"\")"
   ]
  },
  {
   "cell_type": "markdown",
   "metadata": {},
   "source": [
    "2. Luego quitamos los caracteres especiales, los pasamos a minusculas y lo guardamos en una nueva lista"
   ]
  },
  {
   "cell_type": "code",
   "execution_count": 36,
   "metadata": {},
   "outputs": [
    {
     "name": "stdout",
     "output_type": "stream",
     "text": [
      "['numpy', 'is', 'the', 'fundamental', 'package', 'for', 'scientific', 'computing', 'with', 'python', 'website', 'httpswwwnumpyorg', 'documentation', 'httpsnumpyorgdoc', 'mailing', 'list', 'httpsmailpythonorgmailmanlistinfonumpydiscussion', 'source', 'code', 'httpsgithubcomnumpynumpy', 'contributing', 'httpswwwnumpyorgdevdocsdevindexhtml', 'bug', 'reports', 'httpsgithubcomnumpynumpyissues', 'report', 'a', 'security', 'vulnerability', 'httpstideliftcomdocssecurity', 'it', 'provides', 'a', 'powerful', 'ndimensional', 'array', 'object', 'sophisticated', '(broadcasting)', 'functions', 'tools', 'for', 'integrating', 'cc++', 'and', 'fortran', 'code', 'useful', 'linear', 'algebra', 'fourier', 'transform', 'and', 'random', 'number', 'capabilities', 'testing', 'numpy', 'requires', 'pytest', 'and', 'hypothesis', 'tests', 'can', 'then', 'be', 'run', 'after', 'installation', 'with', 'python', 'c', 'import', 'numpy', 'sys;', 'sysexit(numpytest()', 'is', 'false)', 'code', 'of', 'conduct', 'numpy', 'is', 'a', 'communitydriven', 'open', 'source', 'project', 'developed', 'by', 'a', 'diverse', 'group', 'of', 'contributors', 'the', 'numpy', 'leadership', 'has', 'made', 'a', 'strong', 'commitment', 'to', 'creating', 'an', 'open', 'inclusive', 'and', 'positive', 'community', 'please', 'read', 'the', 'numpy', 'code', 'of', 'conduct', 'for', 'guidance', 'on', 'how', 'to', 'interact', 'with', 'others', 'in', 'a', 'way', 'that', 'makes', 'our', 'community', 'thrive', 'call', 'for', 'contributions', 'the', 'numpy', 'project', 'welcomes', 'your', 'expertise', 'and', 'enthusiasm!', 'small', 'improvements', 'or', 'fixes', 'are', 'always', 'appreciated', 'if', 'you', 'are', 'considering', 'larger', 'contributions', 'to', 'the', 'source', 'code', 'please', 'contact', 'us', 'through', 'the', 'mailing', 'list', 'first', 'writing', 'code', 'isn’t', 'the', 'only', 'way', 'to', 'contribute', 'to', 'numpy', 'you', 'can', 'also', 'review', 'pull', 'requests', 'help', 'us', 'stay', 'on', 'top', 'of', 'new', 'and', 'old', 'issues', 'develop', 'tutorials', 'presentations', 'and', 'other', 'educational', 'materials', 'maintain', 'and', 'improve', 'our', 'website', 'develop', 'graphic', 'design', 'for', 'our', 'brand', 'assets', 'and', 'promotional', 'materials', 'translate', 'website', 'content', 'help', 'with', 'outreach', 'and', 'onboard', 'new', 'contributors', 'write', 'grant', 'proposals', 'and', 'help', 'with', 'other', 'fundraising', 'efforts', 'for', 'more', 'information', 'about', 'the', 'ways', 'you', 'can', 'contribute', 'to', 'numpy', 'visit', 'our', 'website', 'if', 'you’re', 'unsure', 'where', 'to', 'start', 'or', 'how', 'your', 'skills', 'fit', 'in', 'reach', 'out!', 'you', 'can', 'ask', 'on', 'the', 'mailing', 'list', 'or', 'here', 'on', 'github', 'by', 'opening', 'a', 'new', 'issue', 'or', 'leaving', 'a', 'comment', 'on', 'a', 'relevant', 'issue', 'that', 'is', 'already', 'open', 'our', 'preferred', 'channels', 'of', 'communication', 'are', 'all', 'public', 'but', 'if', 'you’d', 'like', 'to', 'speak', 'to', 'us', 'in', 'private', 'first', 'contact', 'our', 'community', 'coordinators', 'at', 'numpyteam@googlegroupscom', 'or', 'on', 'slack', '(write', 'numpyteam@googlegroupscom', 'for', 'an', 'invitation)', 'we', 'also', 'have', 'a', 'biweekly', 'community', 'call', 'details', 'of', 'which', 'are', 'announced', 'on', 'the', 'mailing', 'list', 'you', 'are', 'very', 'welcome', 'to', 'join', 'if', 'you', 'are', 'new', 'to', 'contributing', 'to', 'open', 'source', 'this', 'guide', 'helps', 'explain', 'why', 'what', 'and', 'how', 'to', 'successfully', 'get', 'involved']\n"
     ]
    }
   ],
   "source": [
    "clear_numpy_text = text.replace(':', '').replace('/', '').replace('.', '').replace('-', '').replace(',','').replace('\"','')\n",
    "\n",
    "clear_numpy_text = clear_numpy_text.lower()\n",
    "\n",
    "words_list = clear_numpy_text.split()\n",
    "\n",
    "print(words_list)"
   ]
  },
  {
   "cell_type": "markdown",
   "metadata": {},
   "source": [
    "3. Importamos el paquete counter y creamos nuestra nueva lista que va a contener palabras con mas de 4 letras."
   ]
  },
  {
   "cell_type": "code",
   "execution_count": 38,
   "metadata": {},
   "outputs": [
    {
     "name": "stdout",
     "output_type": "stream",
     "text": [
      "['numpy', 'fundamental', 'package', 'scientific', 'computing', 'python', 'website', 'httpswwwnumpyorg', 'documentation', 'httpsnumpyorgdoc', 'mailing', 'httpsmailpythonorgmailmanlistinfonumpydiscussion', 'source', 'httpsgithubcomnumpynumpy', 'contributing', 'httpswwwnumpyorgdevdocsdevindexhtml', 'reports', 'httpsgithubcomnumpynumpyissues', 'report', 'security', 'vulnerability', 'httpstideliftcomdocssecurity', 'provides', 'powerful', 'ndimensional', 'array', 'object', 'sophisticated', '(broadcasting)', 'functions', 'tools', 'integrating', 'fortran', 'useful', 'linear', 'algebra', 'fourier', 'transform', 'random', 'number', 'capabilities', 'testing', 'numpy', 'requires', 'pytest', 'hypothesis', 'tests', 'after', 'installation', 'python', 'import', 'numpy', 'sysexit(numpytest()', 'false)', 'conduct', 'numpy', 'communitydriven', 'source', 'project', 'developed', 'diverse', 'group', 'contributors', 'numpy', 'leadership', 'strong', 'commitment', 'creating', 'inclusive', 'positive', 'community', 'please', 'numpy', 'conduct', 'guidance', 'interact', 'others', 'makes', 'community', 'thrive', 'contributions', 'numpy', 'project', 'welcomes', 'expertise', 'enthusiasm!', 'small', 'improvements', 'fixes', 'always', 'appreciated', 'considering', 'larger', 'contributions', 'source', 'please', 'contact', 'through', 'mailing', 'first', 'writing', 'isn’t', 'contribute', 'numpy', 'review', 'requests', 'issues', 'develop', 'tutorials', 'presentations', 'other', 'educational', 'materials', 'maintain', 'improve', 'website', 'develop', 'graphic', 'design', 'brand', 'assets', 'promotional', 'materials', 'translate', 'website', 'content', 'outreach', 'onboard', 'contributors', 'write', 'grant', 'proposals', 'other', 'fundraising', 'efforts', 'information', 'about', 'contribute', 'numpy', 'visit', 'website', 'you’re', 'unsure', 'where', 'start', 'skills', 'reach', 'mailing', 'github', 'opening', 'issue', 'leaving', 'comment', 'relevant', 'issue', 'already', 'preferred', 'channels', 'communication', 'public', 'you’d', 'speak', 'private', 'first', 'contact', 'community', 'coordinators', 'numpyteam@googlegroupscom', 'slack', '(write', 'numpyteam@googlegroupscom', 'invitation)', 'biweekly', 'community', 'details', 'which', 'announced', 'mailing', 'welcome', 'contributing', 'source', 'guide', 'helps', 'explain', 'successfully', 'involved']\n"
     ]
    }
   ],
   "source": [
    "from collections import Counter\n",
    "\n",
    "new_words_list = [word for word in words_list if len(word) > 4]"
   ]
  },
  {
   "cell_type": "markdown",
   "metadata": {},
   "source": [
    "4. Utilizamos el metodo counter para transformar la lista, y para reflejar la palabra mas repetida en el texto."
   ]
  },
  {
   "cell_type": "code",
   "execution_count": 39,
   "metadata": {},
   "outputs": [
    {
     "name": "stdout",
     "output_type": "stream",
     "text": [
      "[('numpy', 9)]\n"
     ]
    }
   ],
   "source": [
    "counter = Counter(new_words_list)\n",
    "\n",
    "print(counter.most_common(1))"
   ]
  }
 ],
 "metadata": {
  "kernelspec": {
   "display_name": "venv",
   "language": "python",
   "name": "python3"
  },
  "language_info": {
   "codemirror_mode": {
    "name": "ipython",
    "version": 3
   },
   "file_extension": ".py",
   "mimetype": "text/x-python",
   "name": "python",
   "nbconvert_exporter": "python",
   "pygments_lexer": "ipython3",
   "version": "3.11.7"
  }
 },
 "nbformat": 4,
 "nbformat_minor": 2
}
