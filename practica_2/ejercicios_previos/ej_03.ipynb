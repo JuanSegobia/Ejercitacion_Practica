{
 "cells": [
  {
   "cell_type": "markdown",
   "metadata": {},
   "source": [
    "## Ejercicio 3\n",
    "    \n",
    "    Dado el siguiente texto guardado en la varible jupyter_info, solicite por teclado una\n",
    "    letra e imprima las palabras que contengan dicha letra. En caso que no se haya\n",
    "    ingresado un letra, indique el error. Ver: módulo string"
   ]
  },
  {
   "cell_type": "code",
   "execution_count": 1,
   "metadata": {},
   "outputs": [],
   "source": [
    "jupyter_info = \"\"\" JupyterLab is a web-based interactive development environment for Jupyter notebooks, code, and data. JupyterLab is\n",
    "flexible: configure and arrange the user interface to support a wide range of workflows in data science, scientific computing, and machine\n",
    "learning. JupyterLab is extensible and modular: write plugins that add new components and integrate with existing ones. \"\"\""
   ]
  },
  {
   "cell_type": "markdown",
   "metadata": {},
   "source": [
    "1. Paso a minuscula y limpio el texto de caracteres especiales. \n",
    "2. Separo las palabras del texto."
   ]
  },
  {
   "cell_type": "code",
   "execution_count": 4,
   "metadata": {},
   "outputs": [],
   "source": [
    "clear_numpy_text = jupyter_info.lower()\n",
    "\n",
    "clear_numpy_text = clear_numpy_text.replace(':', '').replace('/', '').replace('.', '').replace('-', '').replace(',','').replace('\"','')\n",
    "\n",
    "clear_numpy_text = clear_numpy_text.split()"
   ]
  },
  {
   "cell_type": "markdown",
   "metadata": {},
   "source": [
    "3. Guardo en una variable el caracter ingresado."
   ]
  },
  {
   "cell_type": "code",
   "execution_count": 9,
   "metadata": {},
   "outputs": [],
   "source": [
    "char = input(\"Ingrese una letra del alfabeto.\")"
   ]
  },
  {
   "cell_type": "markdown",
   "metadata": {},
   "source": [
    "4. Verifico que sea un caracter\n",
    "5. Itero en la lista con las palabras, buscando si el char se encuentra en la palabra."
   ]
  },
  {
   "cell_type": "code",
   "execution_count": 10,
   "metadata": {},
   "outputs": [],
   "source": [
    "if not char.isalpha():\n",
    "    print(\"❌ Error ❌\")\n",
    "else:\n",
    "    char = char.lower()\n",
    "    for word in clear_numpy_text:\n",
    "        if char in word:\n",
    "            print(word)"
   ]
  }
 ],
 "metadata": {
  "kernelspec": {
   "display_name": "Python 3",
   "language": "python",
   "name": "python3"
  },
  "language_info": {
   "codemirror_mode": {
    "name": "ipython",
    "version": 3
   },
   "file_extension": ".py",
   "mimetype": "text/x-python",
   "name": "python",
   "nbconvert_exporter": "python",
   "pygments_lexer": "ipython3",
   "version": "3.11.7"
  }
 },
 "nbformat": 4,
 "nbformat_minor": 2
}
