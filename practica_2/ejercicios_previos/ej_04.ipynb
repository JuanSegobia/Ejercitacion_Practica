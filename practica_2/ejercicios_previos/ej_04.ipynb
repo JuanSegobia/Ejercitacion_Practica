{
 "cells": [
  {
   "cell_type": "markdown",
   "metadata": {},
   "source": [
    "## Ejercicio 4    \n",
    "    Dado el siguiente código que informa si la letra a se encuentra en una palabra\n",
    "    ingresada por teclado:"
   ]
  },
  {
   "cell_type": "code",
   "execution_count": null,
   "metadata": {},
   "outputs": [],
   "source": [
    "\n",
    "word = input(\"Ingresá una palabra: \")\n",
    "if \"a\" in word:\n",
    "    print(\"Hay al menos una letra a.\")\n",
    "else:\n",
    "    print(\"No hay letras a. \")"
   ]
  },
  {
   "cell_type": "markdown",
   "metadata": {},
   "source": [
    "    Si ahora queremos saber si contiene la letra a y también la letra n, ¿cómo lo\n",
    "    modificamos?"
   ]
  },
  {
   "cell_type": "code",
   "execution_count": 9,
   "metadata": {},
   "outputs": [
    {
     "name": "stdout",
     "output_type": "stream",
     "text": [
      "Hay al menos una letra a pero no hay letras n\n"
     ]
    }
   ],
   "source": [
    "word = input(\"Ingresá una palabra: \")\n",
    "\n",
    "if \"a\" and \"n\" in word:\n",
    "    print(\"Hay al menos una letra a y una letra n\")\n",
    "elif \"a\" in word:\n",
    "    print(\"Hay al menos una letra a pero no hay letras n\")\n",
    "else:\n",
    "    if \"n\" in word:\n",
    "        print(\"Hay al menos una letra n pero no hay letras a\")\n",
    "    print(\"no hay letra a y tampoco hay letras n\")"
   ]
  }
 ],
 "metadata": {
  "kernelspec": {
   "display_name": "Python 3",
   "language": "python",
   "name": "python3"
  },
  "language_info": {
   "codemirror_mode": {
    "name": "ipython",
    "version": 3
   },
   "file_extension": ".py",
   "mimetype": "text/x-python",
   "name": "python",
   "nbconvert_exporter": "python",
   "pygments_lexer": "ipython3",
   "version": "3.11.7"
  }
 },
 "nbformat": 4,
 "nbformat_minor": 2
}
